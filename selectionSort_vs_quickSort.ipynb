{
 "cells": [
  {
   "cell_type": "markdown",
   "id": "740a4b91",
   "metadata": {},
   "source": [
    "# ***SELECTION-SORT VS QUICK-SORT***\n",
    "\n",
    "### *The following is a comparison of the performace of two famous and simple sorting algoirthms : selection and quick sort*"
   ]
  },
  {
   "cell_type": "markdown",
   "id": "437f3915",
   "metadata": {},
   "source": [
    "======================================================================================================================"
   ]
  },
  {
   "cell_type": "markdown",
   "id": "452f4f5d",
   "metadata": {},
   "source": [
    "### *Index:*\n",
    "\n",
    "The document is organized as follows:\n",
    "1. Overview of the alorithms with respective expected performance and implementation \n",
    "    1. Selection Sort\n",
    "    2. Quick sort\n",
    "2. Overview of the experiment\n",
    "3. Building the data set for test\n",
    "4. Running the test and collecting result data \n",
    "5. Plotting the data and confronting it with the expected results\n",
    "\n"
   ]
  },
  {
   "cell_type": "markdown",
   "id": "c376dd2f",
   "metadata": {},
   "source": [
    "======================================================================================================================"
   ]
  },
  {
   "cell_type": "markdown",
   "id": "af926855",
   "metadata": {},
   "source": [
    "# 1. Overview of the algorithms"
   ]
  },
  {
   "cell_type": "markdown",
   "id": "d2016f24",
   "metadata": {},
   "source": [
    "   ##  A)  Selection Sort"
   ]
  },
  {
   "cell_type": "markdown",
   "id": "97239767",
   "metadata": {},
   "source": [
    "### Algorithm overview "
   ]
  },
  {
   "cell_type": "markdown",
   "id": "902ffced",
   "metadata": {},
   "source": [
    "*Selection Sort* is one of the simpliest sorting algorithms. The idea is simple: ***find the smallest element of the unordered list, make it the first element and iterate on the remaining part of the array until the entire list is sorted***. \n",
    "\n",
    "The algorithm handles two arrays: one being the altready ordered array and the other the array yet to sort. At every iteration the smallest element of the unsorted array moves to the beginning of it. The sorted array grows by one, including the first and smallest element of the unsorted array untill the unsorded array has size 0.\n",
    "Note that we the subarrays we are talking about are logical and that the algorithm is ***in place*** and it doesn't require extra memory space.\n",
    "\n",
    "As the algorithm needs to cycle the all the elements of the unsorted array for each of the N elements of the input, it visits **N$\\times$N** elements. Thats to say its complexity follows ***O($N^2$)***.\n",
    "\n",
    "\n",
    "\n"
   ]
  },
  {
   "cell_type": "markdown",
   "id": "1cccfbd9",
   "metadata": {},
   "source": [
    "![](https://miro.medium.com/v2/resize:fit:1400/1*5WXRN62ddiM_Gcf4GDdCZg.gif)\n",
    "gif by: https://s-satsangi.medium.com/"
   ]
  },
  {
   "cell_type": "markdown",
   "id": "2a0c389e",
   "metadata": {},
   "source": [
    "### Python Code\n",
    "\n",
    "#### The following snippet implements the algorithm in a python function, that we will use later for testing"
   ]
  },
  {
   "cell_type": "code",
   "execution_count": 1,
   "id": "5c2526c6",
   "metadata": {},
   "outputs": [],
   "source": [
    "def SelectionSort(A):\n",
    "    for i in range(0, len(A)): #the index i reppresents the size of the sorted subarray\n",
    "        min_idx = i #set min index to current index\n",
    "        for j in range(i+1, len(A)):\n",
    "            if A[j] < A[min_idx]:\n",
    "                min_idx = j\n",
    "        A[i], A[min_idx] = A[min_idx], A[i] #swap the smallest element in the unsorted subarray with its first one\n",
    "    return A"
   ]
  },
  {
   "cell_type": "markdown",
   "id": "ecee99d2",
   "metadata": {},
   "source": [
    "##  B)  Quick Sort"
   ]
  },
  {
   "cell_type": "markdown",
   "id": "5cd86e64",
   "metadata": {},
   "source": [
    "### Algorithm Overview"
   ]
  },
  {
   "cell_type": "markdown",
   "id": "53e68ff9",
   "metadata": {},
   "source": [
    "*Quick Sort* is one of the most efficient **in place** sorting algorithm, with an avarage expected running time of ***O(NlogN)***, usually which makes it the best choice for sorting problems. \n",
    "Quick Sort is a *Divide and Conquer* algorithm and given the input A[p_r], with p index fo the first elemt and r of the last one, it operates as follows:   \n",
    "**DIVIDE:** the method *Partition* splits the array A into to smaller (eventually empty) subarrays. A[p_q-1] and A[q+1_r] such that all elements in A[p_q-1] are smaller than A[q], and all elements in A[q+1_r] are greater than A[q]. Calculating q is the main part of this procedure.     \n",
    "**CONQUER:** Sort the two subarrays created before by recursive calls the quicksort.    \n",
    "**COMBINE:** Combining is trivial as the new array as build is already sorted.  \n",
    "\n",
    "\n"
   ]
  },
  {
   "cell_type": "markdown",
   "id": "c6b69e8c",
   "metadata": {},
   "source": [
    "![](https://miro.medium.com/v2/resize:fit:1100/1*FN4OxxaozdCMUmYtgvWRVg.gif)\n",
    "gif by: https://s-satsangi.medium.com/"
   ]
  },
  {
   "cell_type": "markdown",
   "id": "f8512e98",
   "metadata": {},
   "source": [
    "### Python Code\n",
    "The following code implements the algorithm in the two methods Partition (DIVIDE) and QuickSort (CONQUER)\n"
   ]
  },
  {
   "cell_type": "code",
   "execution_count": 2,
   "id": "45085a7c",
   "metadata": {},
   "outputs": [],
   "source": [
    "def Partition(A,p,r):\n",
    "    x = A[r-1]\n",
    "    i = p-2\n",
    "    for j in range(p-1, r-1):\n",
    "        if A[j] <= A[r-1]:\n",
    "            i += 1\n",
    "            swap = A[i]\n",
    "            A[i] = A[j]\n",
    "            A[j] = swap\n",
    "    swap = A[i+1]\n",
    "    A[i + 1] = A[r-1]\n",
    "    A[r-1] = swap\n",
    "    return i+2"
   ]
  },
  {
   "cell_type": "code",
   "execution_count": 3,
   "id": "3e6b8e44",
   "metadata": {},
   "outputs": [],
   "source": [
    "def QuickSort(A, p, r):\n",
    "    if p<r:\n",
    "        q = Partition(A,p,r)\n",
    "        QuickSort(A, p, q-1)\n",
    "        QuickSort(A, q+1, r)"
   ]
  },
  {
   "cell_type": "code",
   "execution_count": 4,
   "id": "eb8e6f03",
   "metadata": {},
   "outputs": [],
   "source": [
    "def Q(A):\n",
    "    QuickSort(A, 1, len(A))\n",
    "    return A"
   ]
  },
  {
   "cell_type": "markdown",
   "id": "de90068c",
   "metadata": {},
   "source": [
    "### Expected complexity\n",
    "\n",
    "The running time (we don't need to measure space as the algorithm runs inplace) of QuickSort depends heavily on whether the partition is balanced or not, considering a *well balanced* partition if the size of A[p_q-1] and A[q+1_r] is similar (or optimally the same) and a *badly balanced* if size of A[p_q-1] >> or << A[q+1_r].\n",
    "In the **WORST CASE** the algorithm would perform on ***O($N^2$)*** time and would be the same as *Selection Sort*, but in the avarage case, where the partition is balanced the, the time goes down to ***O(NlogN)***, with even smaller constants as *MergeSort*.\n"
   ]
  },
  {
   "cell_type": "markdown",
   "id": "ce43e33e",
   "metadata": {},
   "source": [
    "======================================================================================================================"
   ]
  },
  {
   "cell_type": "markdown",
   "id": "52c79a81",
   "metadata": {},
   "source": [
    "# 2. Overview of the experiment\n"
   ]
  },
  {
   "cell_type": "markdown",
   "id": "0a86b7fe",
   "metadata": {},
   "source": [
    "We want to confront the two algorithms on the *time* they take to sort an array, as they both order *in place*.    \n",
    "To do so, we will take ***random arrays of increasing length*** and feed them to the algorithms. We will them measure the ***time*** they take to sort the differt arrays. We will then plot their sizes against the time the algorithms take to sort them.   \n",
    "To have more accurate results we can iterate the process on different data sets and take the *mean* of the several results per array size class.    \n",
    "We will provide a generator for the data set to feed to the test as well as a metheod to retrieve specs of the test bench.\n",
    "\n"
   ]
  },
  {
   "cell_type": "markdown",
   "id": "5f43edc5",
   "metadata": {},
   "source": [
    "### What do we expect?\n",
    "\n",
    "Given that we will generate input arrays randomly and with *uniform* distribution, we have no reason to expect the data to be biased on any way.    \n",
    "We expect for the QuickSort to perform on ***O(NlogN)*** time and SelectionSort on ***O($N^2$)*** time and their difference will be reflected on the ploted data as an increasing gap on the avarage time as the array length increases."
   ]
  },
  {
   "cell_type": "markdown",
   "id": "fb3c255d",
   "metadata": {},
   "source": [
    "### Importing needed libraries"
   ]
  },
  {
   "cell_type": "code",
   "execution_count": 5,
   "id": "6ac44cbe",
   "metadata": {},
   "outputs": [],
   "source": [
    "import copy\n",
    "import random\n",
    "import numpy as np\n",
    "from timeit import default_timer as timer\n",
    "import matplotlib.pyplot as plt\n",
    "#rise maximum depth of recursion to 10000 for testing\n",
    "import sys\n",
    "sys.setrecursionlimit(10000)\n",
    "\n",
    "#importing libraries for retrievieng info on the system we're running the code\n",
    "import platform\n",
    "import cpuinfo\n",
    "import psutil"
   ]
  },
  {
   "cell_type": "markdown",
   "id": "eac9a036",
   "metadata": {},
   "source": [
    "### **TEST BENCH SPECS**\n",
    "\n",
    "*Use the code snippet underneath to retrieve the system specs of the current machine*\n"
   ]
  },
  {
   "cell_type": "code",
   "execution_count": 6,
   "id": "1e7d70ef",
   "metadata": {},
   "outputs": [
    {
     "name": "stdout",
     "output_type": "stream",
     "text": [
      "CPU name: Apple M1\n",
      "Number of CPU cores: 8\n",
      "Total RAM: 8.0 GB\n",
      "Operating system core: Darwin\n",
      "Operating system release: 22.2.0\n"
     ]
    }
   ],
   "source": [
    "info = cpuinfo.get_cpu_info()\n",
    "ram = psutil.virtual_memory()\n",
    "\n",
    "#----CPU info----\n",
    "print(\"CPU name:\", info[\"brand_raw\"])\n",
    "print(\"Number of CPU cores:\", info[\"count\"])\n",
    "\n",
    "#----RAM info----\n",
    "print(\"Total RAM:\", round(ram.total / (1024 ** 3), 2), \"GB\")\n",
    "\n",
    "#----OS info----\n",
    "print(\"Operating system core:\", platform.system())\n",
    "print(\"Operating system release:\", platform.release())"
   ]
  },
  {
   "cell_type": "markdown",
   "id": "0097097b",
   "metadata": {},
   "source": [
    "### Data Generator\n",
    "\n",
    "The following code generates a three dimensional array. The **sampleSize** reppresents the *width of the sample space*. The **maxArraySize** is the *maximum length* of the array to sort and the third dimension is going to be defined as the maximum length floor-divided by the **stepSize** we use to reach it.\n"
   ]
  },
  {
   "cell_type": "markdown",
   "id": "f1dc24ab",
   "metadata": {},
   "source": [
    "### Define the size of the DATA SET"
   ]
  },
  {
   "cell_type": "code",
   "execution_count": 17,
   "id": "b9b60a7a",
   "metadata": {},
   "outputs": [],
   "source": [
    "#the bigger the sample size the 'smoother' the plot and the bigger the confidence we have on the results\n",
    "sampleSize = 1000\n",
    "#the bigger the array size the more visible the performance gap will be\n",
    "#anything bigger than 100-125 will make the difference more than visible\n",
    "maxArraySize = 50\n",
    "stepSize = 1"
   ]
  },
  {
   "cell_type": "markdown",
   "id": "3284be2f",
   "metadata": {},
   "source": [
    "![DataSetVisual](https://raw.githubusercontent.com/rengega/ASD_LAB/main/dataSet.png)\n"
   ]
  },
  {
   "cell_type": "code",
   "execution_count": 8,
   "id": "7dcaaafb",
   "metadata": {},
   "outputs": [],
   "source": [
    "def generateTestData(sampleSize, maxArraySize, stepSize):\n",
    "    A = []\n",
    "    for i in range (0, sampleSize):\n",
    "        B = []\n",
    "        for j in range(stepSize, maxArraySize+1, stepSize): #a[x] = 250\n",
    "            B.append(np.random.randint(1, 10000, j))\n",
    "        A.append(B)\n",
    "    return A"
   ]
  },
  {
   "cell_type": "markdown",
   "id": "0f6e4b65",
   "metadata": {},
   "source": [
    "### Generating DataSets"
   ]
  },
  {
   "cell_type": "code",
   "execution_count": 9,
   "id": "3a0d59b5",
   "metadata": {},
   "outputs": [],
   "source": [
    "A_QS = generateTestData(sampleSize, maxArraySize, stepSize)\n",
    "A_SS = copy.deepcopy(A_QS) #taking a copy of the data set as the algorithms both order in place"
   ]
  },
  {
   "cell_type": "markdown",
   "id": "857d2b59",
   "metadata": {},
   "source": [
    "##### Generating Results\n",
    "\n",
    "The snippets underneath run the algoirthms on the data set we just generated, and the third one is a call to them.\n"
   ]
  },
  {
   "cell_type": "code",
   "execution_count": 10,
   "id": "c368661c",
   "metadata": {},
   "outputs": [],
   "source": [
    "#generate time data set for quicksort\n",
    "def generateTimeDataSetQuickSort(A):\n",
    "    time = []\n",
    "    for i in range (0, len(A)):\n",
    "        timeB = []\n",
    "        for j in range (0, len(A[i])):\n",
    "            start = timer()\n",
    "\n",
    "            Q(A[i][j])\n",
    "\n",
    "            end = timer()\n",
    "            timeB.append(end - start)\n",
    "            timeB_copy = timeB.copy()\n",
    "        time.append(timeB_copy)\n",
    "    return time"
   ]
  },
  {
   "cell_type": "code",
   "execution_count": 11,
   "id": "fd5e3676",
   "metadata": {},
   "outputs": [],
   "source": [
    "def generateTimeDataSetSelectionSort(A):\n",
    "    time = []\n",
    "    for i in range (0, len(A)):\n",
    "        timeB = []\n",
    "        for j in range (0, len(A[i])):\n",
    "            start = timer()\n",
    "\n",
    "            SelectionSort(A[i][j])\n",
    "\n",
    "            end = timer()\n",
    "            timeB.append(end - start)\n",
    "            timeB_copy = timeB.copy()\n",
    "        time.append(timeB_copy)\n",
    "    return time\n"
   ]
  },
  {
   "cell_type": "markdown",
   "id": "b7d54f4a",
   "metadata": {},
   "source": [
    "### Let's actually run the test now"
   ]
  },
  {
   "cell_type": "code",
   "execution_count": 12,
   "id": "fd72e59e",
   "metadata": {},
   "outputs": [],
   "source": [
    "timeQS = generateTimeDataSetQuickSort(A_QS)\n",
    "timeSS = generateTimeDataSetSelectionSort(A_SS)"
   ]
  },
  {
   "cell_type": "markdown",
   "id": "4b04f6ac",
   "metadata": {},
   "source": [
    "We now elaborate the data taking the mean on the sample."
   ]
  },
  {
   "cell_type": "code",
   "execution_count": 13,
   "id": "06325b37",
   "metadata": {},
   "outputs": [],
   "source": [
    "def averageTime(time, maxArraySize, stepSize):\n",
    "    avgTime = []\n",
    "    for j in range (0, maxArraySize//stepSize):\n",
    "        sum = 0\n",
    "        for i in range (0, len(time)):\n",
    "            sum += time[i][j]\n",
    "        avgTime.append(sum/len(time)*1000) #covnerting to milliseconds\n",
    "    return avgTime"
   ]
  },
  {
   "cell_type": "code",
   "execution_count": 14,
   "id": "ff97eb46",
   "metadata": {},
   "outputs": [],
   "source": [
    "mean_timeQS = averageTime(timeQS, maxArraySize, stepSize)\n",
    "mean_timeSS = averageTime(timeSS, maxArraySize, stepSize) "
   ]
  },
  {
   "cell_type": "markdown",
   "id": "5aa30576",
   "metadata": {},
   "source": [
    "We now define an array conaing the sizes of the different arrays we ordered so that we can plot them againts the time it took to sort them."
   ]
  },
  {
   "cell_type": "code",
   "execution_count": 15,
   "id": "2a60c1ad",
   "metadata": {},
   "outputs": [],
   "source": [
    "lenA = []\n",
    "for i in range (0, maxArraySize, stepSize):\n",
    "    lenA.append(i)"
   ]
  },
  {
   "cell_type": "markdown",
   "id": "84d64a75",
   "metadata": {},
   "source": [
    "And now we Plot the results."
   ]
  },
  {
   "cell_type": "code",
   "execution_count": 16,
   "id": "afa1998a",
   "metadata": {},
   "outputs": [
    {
     "data": {
      "image/png": "[encoded data removed]",
      "text/plain": [
       "<Figure size 432x288 with 1 Axes>"
      ]
     },
     "metadata": {
      "needs_background": "light"
     },
     "output_type": "display_data"
    }
   ],
   "source": [
    "plt.plot(lenA, mean_timeQS)\n",
    "plt.plot(lenA, mean_timeSS)\n",
    "plt.xlabel('Array Length')\n",
    "plt.ylabel('Avarage Computing Time (milliseconds)')\n",
    "plt.legend(['Quicksort', 'Selection Sort'], loc='upper left')\n",
    "plt.show()"
   ]
  },
  {
   "cell_type": "code",
   "execution_count": null,
   "id": "fdc62b91",
   "metadata": {},
   "outputs": [],
   "source": []
  }
 ],
 "metadata": {
  "kernelspec": {
   "display_name": "Python 3 (ipykernel)",
   "language": "python",
   "name": "python3"
  },
  "language_info": {
   "codemirror_mode": {
    "name": "ipython",
    "version": 3
   },
   "file_extension": ".py",
   "mimetype": "text/x-python",
   "name": "python",
   "nbconvert_exporter": "python",
   "pygments_lexer": "ipython3",
   "version": "3.9.15"
  }
 },
 "nbformat": 4,
 "nbformat_minor": 5
}
